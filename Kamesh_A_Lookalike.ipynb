{
 "cells": [
  {
   "cell_type": "code",
   "execution_count": 1,
   "id": "2593e294",
   "metadata": {},
   "outputs": [],
   "source": [
    "import pandas as pd\n",
    "from sklearn.metrics.pairwise import cosine_similarity\n",
    "from sklearn.preprocessing import StandardScaler"
   ]
  },
  {
   "cell_type": "code",
   "execution_count": 2,
   "id": "4c7b046e",
   "metadata": {},
   "outputs": [],
   "source": [
    "customers = pd.read_csv('Customers.csv')\n",
    "transactions = pd.read_csv('Transactions.csv')\n",
    "products = pd.read_csv('Products.csv')"
   ]
  },
  {
   "cell_type": "code",
   "execution_count": 3,
   "id": "8b7927c2",
   "metadata": {},
   "outputs": [],
   "source": [
    "#Merge datasets\n",
    "merged = transactions.merge(products, on=\"ProductID\", how=\"left\").merge(customers, on=\"CustomerID\", how=\"left\")"
   ]
  },
  {
   "cell_type": "code",
   "execution_count": 6,
   "id": "14f1044f",
   "metadata": {},
   "outputs": [
    {
     "name": "stdout",
     "output_type": "stream",
     "text": [
      "Index(['TransactionID', 'CustomerID', 'ProductID', 'TransactionDate',\n",
      "       'Quantity', 'TotalValue', 'Price_x', 'ProductName', 'Category',\n",
      "       'Price_y', 'CustomerName', 'Region', 'SignupDate'],\n",
      "      dtype='object')\n"
     ]
    }
   ],
   "source": [
    "print(merged.columns)"
   ]
  },
  {
   "cell_type": "code",
   "execution_count": 7,
   "id": "276e9ebb",
   "metadata": {},
   "outputs": [
    {
     "name": "stdout",
     "output_type": "stream",
     "text": [
      "Feature Engineering: Creating customer-product interaction matrix and aggregating features...\n"
     ]
    }
   ],
   "source": [
    "\n",
    "# Feature Engineering\n",
    "print(\"Feature Engineering: Creating customer-product interaction matrix and aggregating features...\")\n",
    "customer_product_matrix = pd.pivot_table(\n",
    "    merged, \n",
    "    values=\"TotalValue\", \n",
    "    index=\"CustomerID\", \n",
    "    columns=\"ProductID\", \n",
    "    aggfunc=\"sum\", \n",
    "    fill_value=0\n",
    ")"
   ]
  },
  {
   "cell_type": "code",
   "execution_count": 8,
   "id": "2f68deb2",
   "metadata": {},
   "outputs": [],
   "source": [
    " #Add customer demographic features to the matrix\n",
    "customer_features = customers.set_index(\"CustomerID\").drop(columns=[\"CustomerName\"])\n",
    "combined_features = customer_product_matrix.join(customer_features)\n"
   ]
  },
  {
   "cell_type": "code",
   "execution_count": 10,
   "id": "54f75f90",
   "metadata": {},
   "outputs": [
    {
     "name": "stdout",
     "output_type": "stream",
     "text": [
      "P001          float64\n",
      "P002          float64\n",
      "P003          float64\n",
      "P004          float64\n",
      "P005          float64\n",
      "               ...   \n",
      "P098          float64\n",
      "P099          float64\n",
      "P100          float64\n",
      "Region         object\n",
      "SignupDate     object\n",
      "Length: 102, dtype: object\n"
     ]
    }
   ],
   "source": [
    "print(combined_features.dtypes)\n"
   ]
  },
  {
   "cell_type": "code",
   "execution_count": 11,
   "id": "1f67e89b",
   "metadata": {},
   "outputs": [],
   "source": [
    "combined_features = pd.get_dummies(combined_features, drop_first=True)\n"
   ]
  },
  {
   "cell_type": "code",
   "execution_count": 12,
   "id": "acc346f5",
   "metadata": {},
   "outputs": [],
   "source": [
    "combined_features = combined_features.fillna(0)  # or use another imputation method\n"
   ]
  },
  {
   "cell_type": "code",
   "execution_count": 14,
   "id": "4eacaace",
   "metadata": {},
   "outputs": [],
   "source": [
    "#Normalize data\n",
    "scaler = StandardScaler()\n",
    "normalized_features = scaler.fit_transform(combined_features)\n"
   ]
  },
  {
   "cell_type": "code",
   "execution_count": 15,
   "id": "7ade1b8c",
   "metadata": {},
   "outputs": [
    {
     "name": "stdout",
     "output_type": "stream",
     "text": [
      "Calculating cosine similarity between customers...\n"
     ]
    }
   ],
   "source": [
    "# Compute cosine similarity\n",
    "print(\"Calculating cosine similarity between customers...\")\n",
    "similarity_matrix = cosine_similarity(normalized_features)\n",
    "similarity_df = pd.DataFrame(similarity_matrix, index=combined_features.index, columns=combined_features.index)"
   ]
  },
  {
   "cell_type": "code",
   "execution_count": 16,
   "id": "44dac334",
   "metadata": {},
   "outputs": [],
   "source": [
    "# Get top 3 similar customers for each customer\n",
    "lookalike_data = {}\n",
    "for customer_id in similarity_df.index[:20]:  # First 20 customers\n",
    "    similar_customers = similarity_df[customer_id].nlargest(4).iloc[1:]  # Top 3 (excluding self)\n",
    "    lookalike_data[customer_id] = [(sim_id, round(score, 2)) for sim_id, score in similar_customers.items()]\n"
   ]
  },
  {
   "cell_type": "code",
   "execution_count": 17,
   "id": "2db836a7",
   "metadata": {},
   "outputs": [
    {
     "name": "stdout",
     "output_type": "stream",
     "text": [
      "Saving Lookalike.csv...\n",
      "Lookalike.csv saved successfully!\n"
     ]
    }
   ],
   "source": [
    "# Create Lookalike.csv\n",
    "print(\"Saving Lookalike.csv...\")\n",
    "lookalike_df = pd.DataFrame({\n",
    "    \"CustomerID\": lookalike_data.keys(),\n",
    "    \"Similar_Customers_and_Scores\": [lookalike_data[cust_id] for cust_id in lookalike_data.keys()]\n",
    "})\n",
    "lookalike_df.to_csv(\"Lookalike.csv\", index=False)\n",
    "print(\"Lookalike.csv saved successfully!\")"
   ]
  },
  {
   "cell_type": "code",
   "execution_count": 18,
   "id": "51794b80",
   "metadata": {},
   "outputs": [
    {
     "name": "stdout",
     "output_type": "stream",
     "text": [
      "\n",
      "--- Lookalike Mapping for First 20 Customers ---\n",
      "   CustomerID                   Similar_Customers_and_Scores\n",
      "0       C0001  [(C0104, 0.11), (C0194, 0.09), (C0065, 0.08)]\n",
      "1       C0002  [(C0166, 0.51), (C0091, 0.21), (C0030, 0.19)]\n",
      "2       C0003  [(C0134, 0.17), (C0181, 0.16), (C0144, 0.12)]\n",
      "3       C0004  [(C0175, 0.19), (C0105, 0.15), (C0070, 0.14)]\n",
      "4       C0005  [(C0096, 0.14), (C0023, 0.13), (C0055, 0.12)]\n",
      "5       C0006   [(C0040, 0.13), (C0126, 0.1), (C0171, 0.08)]\n",
      "6       C0007  [(C0053, 0.39), (C0118, 0.31), (C0079, 0.26)]\n",
      "7       C0008  [(C0091, 0.14), (C0165, 0.13), (C0028, 0.13)]\n",
      "8       C0009  [(C0162, 0.08), (C0072, 0.06), (C0140, 0.05)]\n",
      "9       C0010  [(C0143, 0.16), (C0094, 0.15), (C0092, 0.14)]\n",
      "10      C0011  [(C0135, 0.14), (C0120, 0.14), (C0173, 0.11)]\n",
      "11      C0012  [(C0164, 0.15), (C0173, 0.15), (C0158, 0.13)]\n",
      "12      C0013   [(C0169, 0.2), (C0099, 0.14), (C0092, 0.13)]\n",
      "13      C0014  [(C0159, 0.08), (C0075, 0.05), (C0128, 0.05)]\n",
      "14      C0015  [(C0059, 0.15), (C0073, 0.14), (C0036, 0.13)]\n",
      "15      C0016  [(C0187, 0.17), (C0064, 0.15), (C0052, 0.14)]\n",
      "16      C0017  [(C0024, 0.17), (C0071, 0.15), (C0037, 0.14)]\n",
      "17      C0018  [(C0110, 0.51), (C0059, 0.21), (C0115, 0.18)]\n",
      "18      C0019   [(C0024, 0.12), (C0064, 0.11), (C0084, 0.1)]\n",
      "19      C0020   [(C0026, 0.12), (C0117, 0.1), (C0007, 0.09)]\n"
     ]
    }
   ],
   "source": [
    "print(\"\\n--- Lookalike Mapping for First 20 Customers ---\")\n",
    "print(lookalike_df)"
   ]
  },
  {
   "cell_type": "code",
   "execution_count": null,
   "id": "985e6f4c",
   "metadata": {},
   "outputs": [],
   "source": []
  }
 ],
 "metadata": {
  "kernelspec": {
   "display_name": "Python 3 (ipykernel)",
   "language": "python",
   "name": "python3"
  },
  "language_info": {
   "codemirror_mode": {
    "name": "ipython",
    "version": 3
   },
   "file_extension": ".py",
   "mimetype": "text/x-python",
   "name": "python",
   "nbconvert_exporter": "python",
   "pygments_lexer": "ipython3",
   "version": "3.11.3"
  }
 },
 "nbformat": 4,
 "nbformat_minor": 5
}
